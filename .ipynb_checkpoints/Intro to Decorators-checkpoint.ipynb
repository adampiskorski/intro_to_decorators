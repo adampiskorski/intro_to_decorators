{
 "cells": [
  {
   "cell_type": "markdown",
   "metadata": {},
   "source": [
    "#Decorators\n",
    "Decorators simply take a function as an argument and return a replacement function.\n",
    "This is can be usefull in a wide range of applications, such as quickly and easily expanding entire functions or even libraries with a single, clear and visible line right at the top of a function."
   ]
  },
  {
   "cell_type": "markdown",
   "metadata": {},
   "source": [
    "It is heavily used in frameworks such as [Flask](http://flask.pocoo.org/) (and is in fact the primary way of interacting with the framework). \n",
    "So for example (just to see what decorators look like in the real world), we could make a decorator for a website that allows us to easily make sure the user is logged in before allowing them to view the page, otherwise the user will get redirected:"
   ]
  },
  {
   "cell_type": "markdown",
   "metadata": {},
   "source": [
    "```python\n",
    "@login_required\n",
    "@app.route('/food_truck/new/', methods=['GET', 'POST'])\n",
    "def newFoodTruck():\n",
    "    \"\"\" Create a new food truck \"\"\"\n",
    "\n",
    "    credentials = login_session.get('credentials')\n",
    "\n",
    "    if request.method == 'POST':\n",
    "        login_user_id = getUserID(login_session['email'])\n",
    "        newFoodTruck = FoodTruck(\n",
    "            name=request.form['name'], user_id=login_user_id)\n",
    "        session.add(newFoodTruck)\n",
    "        flash('New Food Truck %s Successfully Created' % newFoodTruck.name)\n",
    "        session.commit()\n",
    "        return redirect(url_for('showFoodTrucks'))\n",
    "    else:\n",
    "        return render_template(\n",
    "            'newFoodTruck.html', credentials=credentials)\n",
    "```"
   ]
  },
  {
   "cell_type": "markdown",
   "metadata": {},
   "source": [
    "So the ```@login_required``` line up there is called a decorator and does the checking and redirecting for us. \n",
    "\n",
    "The ```@app.route``` decorate is a built in flask decorator that takes in arguments."
   ]
  },
  {
   "cell_type": "markdown",
   "metadata": {},
   "source": [
    "We made ```@login_required``` it like so:"
   ]
  },
  {
   "cell_type": "markdown",
   "metadata": {},
   "source": [
    "```python\n",
    "def login_required(f):\n",
    "    @wraps(f)\n",
    "    def decorated_function(*args, **kwargs):\n",
    "         if 'username' not in login_session:\n",
    "            return redirect(url_for('login', next=request.url))\n",
    "        return f(*args, **kwargs)\n",
    "    return decorated_function\n",
    "```"
   ]
  },
  {
   "cell_type": "markdown",
   "metadata": {},
   "source": [
    "We will go through how this works (the decorator part, not the Flask part) now:"
   ]
  },
  {
   "cell_type": "markdown",
   "metadata": {},
   "source": [
    "# Nested Functions\n",
    "To understand decorators, we first need to understand that functions can be put inside other functions in Python:"
   ]
  },
  {
   "cell_type": "code",
   "execution_count": 66,
   "metadata": {
    "collapsed": true
   },
   "outputs": [],
   "source": [
    "def outer():\n",
    "    print \"Hi!\"\n",
    "    def inner():\n",
    "        print \"Hello!\"\n",
    "    return inner()"
   ]
  },
  {
   "cell_type": "code",
   "execution_count": 67,
   "metadata": {
    "collapsed": false
   },
   "outputs": [
    {
     "name": "stdout",
     "output_type": "stream",
     "text": [
      "Hi!\n",
      "Hello!\n"
     ]
    }
   ],
   "source": [
    "outer()"
   ]
  },
  {
   "cell_type": "markdown",
   "metadata": {},
   "source": [
    "Functions are also just objects, so they can be passed into other functions:"
   ]
  },
  {
   "cell_type": "code",
   "execution_count": 68,
   "metadata": {
    "collapsed": true
   },
   "outputs": [],
   "source": [
    "def inner():\n",
    "    return \"Wee!!!\"\n",
    "\n",
    "def outer(func):\n",
    "    print func()"
   ]
  },
  {
   "cell_type": "code",
   "execution_count": 70,
   "metadata": {
    "collapsed": false
   },
   "outputs": [
    {
     "name": "stdout",
     "output_type": "stream",
     "text": [
      "Wee!!!\n"
     ]
    }
   ],
   "source": [
    "outer(inner)"
   ]
  },
  {
   "cell_type": "markdown",
   "metadata": {},
   "source": [
    "This will be particularly useful later with decorators."
   ]
  },
  {
   "cell_type": "markdown",
   "metadata": {},
   "source": [
    "# Function Closures\n",
    "A function closure simply means that functions defined inside another function (otherwise known as `non-global scope`) rememebers the namespace (or all the variables) of its enclosing function, for when that enclosing function is **defined**.\n",
    "So for eg:"
   ]
  },
  {
   "cell_type": "code",
   "execution_count": 61,
   "metadata": {
    "collapsed": true
   },
   "outputs": [],
   "source": [
    "def outer():\n",
    "    x = 1\n",
    "    \n",
    "    def inner():\n",
    "        print x\n",
    "    \n",
    "    x = 2\n",
    "    return inner\n",
    "\n",
    "x = 3"
   ]
  },
  {
   "cell_type": "code",
   "execution_count": 62,
   "metadata": {
    "collapsed": false
   },
   "outputs": [
    {
     "name": "stdout",
     "output_type": "stream",
     "text": [
      "2\n"
     ]
    }
   ],
   "source": [
    "outer()()"
   ]
  },
  {
   "cell_type": "markdown",
   "metadata": {},
   "source": [
    "We can see that x=2 is what the Function Closure remembered."
   ]
  },
  {
   "cell_type": "markdown",
   "metadata": {},
   "source": [
    "So here is one academic example of what Function Closures can be used for:"
   ]
  },
  {
   "cell_type": "code",
   "execution_count": 10,
   "metadata": {
    "collapsed": true
   },
   "outputs": [],
   "source": [
    "def outer(x):\n",
    "    def inner():\n",
    "        print locals()\n",
    "        print x\n",
    "    return inner"
   ]
  },
  {
   "cell_type": "code",
   "execution_count": 14,
   "metadata": {
    "collapsed": false
   },
   "outputs": [],
   "source": [
    "print1 = outer(1)\n",
    "print2 = outer(2)"
   ]
  },
  {
   "cell_type": "code",
   "execution_count": 15,
   "metadata": {
    "collapsed": false
   },
   "outputs": [
    {
     "name": "stdout",
     "output_type": "stream",
     "text": [
      "{'x': 1}\n",
      "1\n"
     ]
    }
   ],
   "source": [
    "print1()"
   ]
  },
  {
   "cell_type": "code",
   "execution_count": 16,
   "metadata": {
    "collapsed": false
   },
   "outputs": [
    {
     "name": "stdout",
     "output_type": "stream",
     "text": [
      "{'x': 2}\n",
      "2\n"
     ]
    }
   ],
   "source": [
    "print2()"
   ]
  },
  {
   "cell_type": "markdown",
   "metadata": {},
   "source": [
    "So we can see that we have created two, unique functions with hard coded values.\n",
    "This is analogous to having an Constructor (that `outer()` is like), creating different `inner()` objects with different attributes, kind of like so:"
   ]
  },
  {
   "cell_type": "code",
   "execution_count": 39,
   "metadata": {
    "collapsed": true
   },
   "outputs": [],
   "source": [
    "class outer():\n",
    "    def __init__(self, x):\n",
    "        self.x = x\n",
    "    def __repr__(self):\n",
    "        return str(self.x)"
   ]
  },
  {
   "cell_type": "code",
   "execution_count": 40,
   "metadata": {
    "collapsed": false
   },
   "outputs": [],
   "source": [
    "print1 = outer(1)\n",
    "print2 = outer(2)"
   ]
  },
  {
   "cell_type": "code",
   "execution_count": 41,
   "metadata": {
    "collapsed": false
   },
   "outputs": [
    {
     "data": {
      "text/plain": [
       "1"
      ]
     },
     "execution_count": 41,
     "metadata": {},
     "output_type": "execute_result"
    }
   ],
   "source": [
    "print1"
   ]
  },
  {
   "cell_type": "code",
   "execution_count": 42,
   "metadata": {
    "collapsed": false
   },
   "outputs": [
    {
     "data": {
      "text/plain": [
       "2"
      ]
     },
     "execution_count": 42,
     "metadata": {},
     "output_type": "execute_result"
    }
   ],
   "source": [
    "print2"
   ]
  },
  {
   "cell_type": "markdown",
   "metadata": {},
   "source": [
    "#Decorating\n",
    "So lets all put this together and start implementing the concept of **decorating**"
   ]
  },
  {
   "cell_type": "markdown",
   "metadata": {},
   "source": [
    "So for this example, we want to **decorate** a function that returns a number, by changing it by multiplying it by 100.\n",
    "Here is the function we want to *decorate*:"
   ]
  },
  {
   "cell_type": "code",
   "execution_count": 1,
   "metadata": {
    "collapsed": true
   },
   "outputs": [],
   "source": [
    "def wee():\n",
    "    return 1\n",
    "\n",
    "def multiply(func):\n",
    "    def inner():\n",
    "        ret = func()\n",
    "        return ret * 100\n",
    "    return inner"
   ]
  },
  {
   "cell_type": "code",
   "execution_count": 3,
   "metadata": {
    "collapsed": false
   },
   "outputs": [
    {
     "data": {
      "text/plain": [
       "100"
      ]
     },
     "execution_count": 3,
     "metadata": {},
     "output_type": "execute_result"
    }
   ],
   "source": [
    "decorated = multiply(wee)\n",
    "decorated()"
   ]
  },
  {
   "cell_type": "markdown",
   "metadata": {},
   "source": [
    "We can permanently *decorate* a function by simply redefining it:"
   ]
  },
  {
   "cell_type": "code",
   "execution_count": 4,
   "metadata": {
    "collapsed": false
   },
   "outputs": [
    {
     "data": {
      "text/plain": [
       "100"
      ]
     },
     "execution_count": 4,
     "metadata": {},
     "output_type": "execute_result"
    }
   ],
   "source": [
    "wee = multiply(wee)\n",
    "wee()"
   ]
  },
  {
   "cell_type": "markdown",
   "metadata": {},
   "source": [
    "Or a shortcut to this is simply using the format ```@[Decorator Name]```, when we first create our target function, like so:"
   ]
  },
  {
   "cell_type": "code",
   "execution_count": 5,
   "metadata": {
    "collapsed": true
   },
   "outputs": [],
   "source": [
    "@multiply\n",
    "def wee():\n",
    "    return 1"
   ]
  },
  {
   "cell_type": "code",
   "execution_count": 6,
   "metadata": {
    "collapsed": false
   },
   "outputs": [
    {
     "data": {
      "text/plain": [
       "100"
      ]
     },
     "execution_count": 6,
     "metadata": {},
     "output_type": "execute_result"
    }
   ],
   "source": [
    "wee()"
   ]
  },
  {
   "cell_type": "markdown",
   "metadata": {},
   "source": [
    "#Handling arguments\n",
    "We can pass arguments to a decorated function by simply refering to them in the inner function:"
   ]
  },
  {
   "cell_type": "code",
   "execution_count": 16,
   "metadata": {
    "collapsed": true
   },
   "outputs": [],
   "source": [
    "def multiply(func):\n",
    "    def inner(x):\n",
    "        ret = func(x)\n",
    "        return ret * 100\n",
    "    return inner"
   ]
  },
  {
   "cell_type": "code",
   "execution_count": 18,
   "metadata": {
    "collapsed": false
   },
   "outputs": [],
   "source": [
    "@multiply\n",
    "def wee(x):\n",
    "    return x"
   ]
  },
  {
   "cell_type": "markdown",
   "metadata": {},
   "source": [
    "So we can now choose which number to mutliply by 100:"
   ]
  },
  {
   "cell_type": "code",
   "execution_count": 19,
   "metadata": {
    "collapsed": false
   },
   "outputs": [
    {
     "data": {
      "text/plain": [
       "500"
      ]
     },
     "execution_count": 19,
     "metadata": {},
     "output_type": "execute_result"
    }
   ],
   "source": [
    "wee(5)"
   ]
  },
  {
   "cell_type": "markdown",
   "metadata": {},
   "source": [
    "We can also pass arguments to the decorator itself, so that we can choose by how much we want to multiply our number, for example.\n",
    "\n",
    "We do so by "
   ]
  },
  {
   "cell_type": "code",
   "execution_count": 27,
   "metadata": {
    "collapsed": false
   },
   "outputs": [],
   "source": [
    "def multiply(multiplier):\n",
    "    \n",
    "    def wrapper(func):\n",
    "        def inner(x):\n",
    "            ret = func(x)\n",
    "            return ret * multiplier\n",
    "        return inner\n",
    "    \n",
    "    return wrapper"
   ]
  },
  {
   "cell_type": "code",
   "execution_count": 28,
   "metadata": {
    "collapsed": false
   },
   "outputs": [],
   "source": [
    "@multiply(20)\n",
    "def wee(x):\n",
    "    return x"
   ]
  },
  {
   "cell_type": "code",
   "execution_count": 29,
   "metadata": {
    "collapsed": false
   },
   "outputs": [
    {
     "data": {
      "text/plain": [
       "40"
      ]
     },
     "execution_count": 29,
     "metadata": {},
     "output_type": "execute_result"
    }
   ],
   "source": [
    "wee(2)"
   ]
  },
  {
   "cell_type": "markdown",
   "metadata": {},
   "source": [
    "So now we can change what is multiplied by pasing it into our function and by how much by passing it into the decorator."
   ]
  },
  {
   "cell_type": "markdown",
   "metadata": {},
   "source": [
    "As a useful tip, We can pass any arguments to a decorated function by preserving the arguments in the decorator by using `*args` and `*kwargs`:"
   ]
  },
  {
   "cell_type": "code",
   "execution_count": 15,
   "metadata": {
    "collapsed": false
   },
   "outputs": [
    {
     "name": "stdout",
     "output_type": "stream",
     "text": [
      "(1, 'b', 'a')\n",
      "{'item2': 'bye', 'item1': 900}\n"
     ]
    }
   ],
   "source": [
    "def example(*args, **kwargs):\n",
    "    print args\n",
    "    print kwargs\n",
    "    \n",
    "example(1,'b','a', item1=900, item2='bye')"
   ]
  },
  {
   "cell_type": "markdown",
   "metadata": {},
   "source": [
    "# Working decorator example\n",
    "Lets see an example of where a decorators may be usefull in a very simple problem; Adding profiling computationally intensive code."
   ]
  },
  {
   "cell_type": "markdown",
   "metadata": {},
   "source": [
    "Lets start by making a decorator that prints out how long the function took to run."
   ]
  },
  {
   "cell_type": "code",
   "execution_count": 31,
   "metadata": {
    "collapsed": false
   },
   "outputs": [],
   "source": [
    "import time\n",
    "\n",
    "def profile(func):\n",
    "\n",
    "    def wrapper(*arg):\n",
    "        t = time.clock()\n",
    "        ret = func(*arg)\n",
    "        print 'Function: %s took %ss to run' %(func.func_name, time.clock()-t)\n",
    "        return ret\n",
    "\n",
    "    return wrapper"
   ]
  },
  {
   "cell_type": "markdown",
   "metadata": {},
   "source": [
    "We are going to compare two Fibonaci functions that do Fibonaci in very different ways; One uses an iterative function and the other uses a recursive function:"
   ]
  },
  {
   "cell_type": "code",
   "execution_count": null,
   "metadata": {
    "collapsed": true
   },
   "outputs": [],
   "source": []
  },
  {
   "cell_type": "markdown",
   "metadata": {},
   "source": [
    "###Sources:\n",
    "* Main guide: http://simeonfranklin.com/blog/2012/jul/1/python-decorators-in-12-steps/\n",
    "* Secondary guide: http://thecodeship.com/patterns/guide-to-python-function-decorators/\n",
    "* Example guide: http://stackoverflow.com/questions/489720/what-are-some-common-uses-for-python-decorators"
   ]
  }
 ],
 "metadata": {
  "kernelspec": {
   "display_name": "Python 2",
   "language": "python",
   "name": "python2"
  },
  "language_info": {
   "codemirror_mode": {
    "name": "ipython",
    "version": 2
   },
   "file_extension": ".py",
   "mimetype": "text/x-python",
   "name": "python",
   "nbconvert_exporter": "python",
   "pygments_lexer": "ipython2",
   "version": "2.7.8"
  }
 },
 "nbformat": 4,
 "nbformat_minor": 0
}
