{
 "cells": [
  {
   "cell_type": "markdown",
   "metadata": {},
   "source": [
    "#Decorators\n",
    "Decorators simply take a function as an argument and return a replacement function.\n",
    "This is can be usefull in a wide range of applications, such as quickly and easily expanding entire functions or even libraries with a single, clear and visible line right at the top of a function."
   ]
  },
  {
   "cell_type": "markdown",
   "metadata": {},
   "source": [
    "It is heavily used in frameworks such as [Flask](http://flask.pocoo.org/) (and is in fact the primary way of interacting with the framework). \n",
    "So for example (just to see what decorators look like in the real world), we could make a decorator for a website that allows us to easily make sure the user is logged in before allowing them to view the page, otherwise the user will get redirected:"
   ]
  },
  {
   "cell_type": "markdown",
   "metadata": {},
   "source": [
    "```python\n",
    "@login_required\n",
    "@app.route('/food_truck/new/', methods=['GET', 'POST'])\n",
    "def newFoodTruck():\n",
    "    \"\"\" Create a new food truck \"\"\"\n",
    "\n",
    "    credentials = login_session.get('credentials')\n",
    "\n",
    "    if request.method == 'POST':\n",
    "        login_user_id = getUserID(login_session['email'])\n",
    "        newFoodTruck = FoodTruck(\n",
    "            name=request.form['name'], user_id=login_user_id)\n",
    "        session.add(newFoodTruck)\n",
    "        flash('New Food Truck %s Successfully Created' % newFoodTruck.name)\n",
    "        session.commit()\n",
    "        return redirect(url_for('showFoodTrucks'))\n",
    "    else:\n",
    "        return render_template(\n",
    "            'newFoodTruck.html', credentials=credentials)\n",
    "```"
   ]
  },
  {
   "cell_type": "markdown",
   "metadata": {},
   "source": [
    "So the ```@login_required``` line up there is called a decorator and does the checking and redirecting for us. \n",
    "\n",
    "The ```@app.route``` decorate is a built in flask decorator that takes in arguments."
   ]
  },
  {
   "cell_type": "markdown",
   "metadata": {},
   "source": [
    "We made ```@login_required``` it like so:"
   ]
  },
  {
   "cell_type": "markdown",
   "metadata": {},
   "source": [
    "```python\n",
    "def login_required(f):\n",
    "    @wraps(f)\n",
    "    def decorated_function(*args, **kwargs):\n",
    "         if 'username' not in login_session:\n",
    "            return redirect(url_for('login', next=request.url))\n",
    "        return f(*args, **kwargs)\n",
    "    return decorated_function\n",
    "```"
   ]
  },
  {
   "cell_type": "markdown",
   "metadata": {},
   "source": [
    "We will go through how this works (the decorator part, not the Flask part) now:"
   ]
  },
  {
   "cell_type": "markdown",
   "metadata": {},
   "source": [
    "# Nested Functions\n",
    "To understand decorators, we first need to understand that functions can be put inside other functions in Python:"
   ]
  },
  {
   "cell_type": "code",
   "execution_count": 66,
   "metadata": {
    "collapsed": true
   },
   "outputs": [],
   "source": [
    "def outer():\n",
    "    print \"Hi!\"\n",
    "    def inner():\n",
    "        print \"Hello!\"\n",
    "    return inner()"
   ]
  },
  {
   "cell_type": "code",
   "execution_count": 67,
   "metadata": {
    "collapsed": false
   },
   "outputs": [
    {
     "name": "stdout",
     "output_type": "stream",
     "text": [
      "Hi!\n",
      "Hello!\n"
     ]
    }
   ],
   "source": [
    "outer()"
   ]
  },
  {
   "cell_type": "markdown",
   "metadata": {},
   "source": [
    "Functions are also just objects, so they can be passed into other functions:"
   ]
  },
  {
   "cell_type": "code",
   "execution_count": 68,
   "metadata": {
    "collapsed": true
   },
   "outputs": [],
   "source": [
    "def inner():\n",
    "    return \"Wee!!!\"\n",
    "\n",
    "def outer(func):\n",
    "    print func()"
   ]
  },
  {
   "cell_type": "code",
   "execution_count": 70,
   "metadata": {
    "collapsed": false
   },
   "outputs": [
    {
     "name": "stdout",
     "output_type": "stream",
     "text": [
      "Wee!!!\n"
     ]
    }
   ],
   "source": [
    "outer(inner)"
   ]
  },
  {
   "cell_type": "markdown",
   "metadata": {},
   "source": [
    "This will be particularly useful later with decorators."
   ]
  },
  {
   "cell_type": "markdown",
   "metadata": {},
   "source": [
    "# Function Closures\n",
    "A function closure simply means that functions defined inside another function (otherwise known as `non-global scope`) rememebers the namespace (or all the variables) of its enclosing function, for when that enclosing function is **defined**.\n",
    "So for eg:"
   ]
  },
  {
   "cell_type": "code",
   "execution_count": 61,
   "metadata": {
    "collapsed": true
   },
   "outputs": [],
   "source": [
    "def outer():\n",
    "    x = 1\n",
    "    \n",
    "    def inner():\n",
    "        print x\n",
    "    \n",
    "    x = 2\n",
    "    return inner\n",
    "\n",
    "x = 3"
   ]
  },
  {
   "cell_type": "code",
   "execution_count": 62,
   "metadata": {
    "collapsed": false
   },
   "outputs": [
    {
     "name": "stdout",
     "output_type": "stream",
     "text": [
      "2\n"
     ]
    }
   ],
   "source": [
    "outer()()"
   ]
  },
  {
   "cell_type": "markdown",
   "metadata": {},
   "source": [
    "We can see that x=2 is what the Function Closure remembered."
   ]
  },
  {
   "cell_type": "markdown",
   "metadata": {},
   "source": [
    "So here is one academic example of what Function Closures can be used for:"
   ]
  },
  {
   "cell_type": "code",
   "execution_count": 10,
   "metadata": {
    "collapsed": true
   },
   "outputs": [],
   "source": [
    "def outer(x):\n",
    "    def inner():\n",
    "        print locals()\n",
    "        print x\n",
    "    return inner"
   ]
  },
  {
   "cell_type": "code",
   "execution_count": 14,
   "metadata": {
    "collapsed": false
   },
   "outputs": [],
   "source": [
    "print1 = outer(1)\n",
    "print2 = outer(2)"
   ]
  },
  {
   "cell_type": "code",
   "execution_count": 15,
   "metadata": {
    "collapsed": false
   },
   "outputs": [
    {
     "name": "stdout",
     "output_type": "stream",
     "text": [
      "{'x': 1}\n",
      "1\n"
     ]
    }
   ],
   "source": [
    "print1()"
   ]
  },
  {
   "cell_type": "code",
   "execution_count": 16,
   "metadata": {
    "collapsed": false
   },
   "outputs": [
    {
     "name": "stdout",
     "output_type": "stream",
     "text": [
      "{'x': 2}\n",
      "2\n"
     ]
    }
   ],
   "source": [
    "print2()"
   ]
  },
  {
   "cell_type": "markdown",
   "metadata": {},
   "source": [
    "So we can see that we have created two, unique functions with hard coded values.\n",
    "This is analogous to having an Constructor (that `outer()` is like), creating different `inner()` objects with different attributes, kind of like so:"
   ]
  },
  {
   "cell_type": "code",
   "execution_count": 39,
   "metadata": {
    "collapsed": true
   },
   "outputs": [],
   "source": [
    "class outer():\n",
    "    def __init__(self, x):\n",
    "        self.x = x\n",
    "    def __repr__(self):\n",
    "        return str(self.x)"
   ]
  },
  {
   "cell_type": "code",
   "execution_count": 40,
   "metadata": {
    "collapsed": false
   },
   "outputs": [],
   "source": [
    "print1 = outer(1)\n",
    "print2 = outer(2)"
   ]
  },
  {
   "cell_type": "code",
   "execution_count": 41,
   "metadata": {
    "collapsed": false
   },
   "outputs": [
    {
     "data": {
      "text/plain": [
       "1"
      ]
     },
     "execution_count": 41,
     "metadata": {},
     "output_type": "execute_result"
    }
   ],
   "source": [
    "print1"
   ]
  },
  {
   "cell_type": "code",
   "execution_count": 42,
   "metadata": {
    "collapsed": false
   },
   "outputs": [
    {
     "data": {
      "text/plain": [
       "2"
      ]
     },
     "execution_count": 42,
     "metadata": {},
     "output_type": "execute_result"
    }
   ],
   "source": [
    "print2"
   ]
  }
 ],
 "metadata": {
  "kernelspec": {
   "display_name": "Python 2",
   "language": "python",
   "name": "python2"
  },
  "language_info": {
   "codemirror_mode": {
    "name": "ipython",
    "version": 2
   },
   "file_extension": ".py",
   "mimetype": "text/x-python",
   "name": "python",
   "nbconvert_exporter": "python",
   "pygments_lexer": "ipython2",
   "version": "2.7.6"
  }
 },
 "nbformat": 4,
 "nbformat_minor": 0
}
